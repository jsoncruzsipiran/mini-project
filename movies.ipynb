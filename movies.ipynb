{
 "cells": [
  {
   "cell_type": "markdown",
   "metadata": {},
   "source": [
    "## Mini Project 3 Part A\n",
    "\n",
    "## SQL Movie Database for Movie Popularity Analysis\n",
    "\n",
    "## 100 Points (will be converted to 10 points)"
   ]
  },
  {
   "cell_type": "markdown",
   "metadata": {},
   "source": [
    "In this mini-project, you will work with a movie dataset collected by James Gaskin, available at: https://data.world/jamesgaskin/is201movies/workspace/file?filename=MovieList+New.xlsx.\n",
    "\n",
    "Please load the pre-built SQL database by typing the following command in the terminal:\n",
    "\n",
    "```bash\n",
    "mysql -e 'CREATE DATABASE [Your_NetID]_movies;'\n",
    "mysql [Your_NetID]_movies < movie_user_rating.sql\n",
    "```\n",
    "\n",
    "Replace [Your_NetID] with your NetID. For example, if your NetID is `hz333`, you would type:\n",
    "\n",
    "```bash\n",
    "mysql -e 'CREATE DATABASE hz333_movies;'\n",
    "mysql hz333_movies < movie_user_rating.sql\n",
    "```\n",
    "\n",
    "Make sure you have the `movie_user_rating.sql` file in the same directory where you are running the above commands.\n",
    "\n",
    "In the pre-built SQL database, the movie information has been loaded as an SQL table named **movie**. Additionally, randomly generated user information is available in an SQL table named **user**, and user ratings are stored in an SQL table named **rating**.\n",
    "\n",
    "Your task is to formulate SQL queries in the Jupyter Notebook under the section \"Queries to Movies SQL Database\" by replacing the line \"__Your_SQL_Query_Here__\"."
   ]
  },
  {
   "cell_type": "markdown",
   "metadata": {},
   "source": [
    "The goal of this mini-project is to analyze the movie dataset to understand the popularity of movies based on movie release_date, genre, and user ratings. The obtained results are presented as SQL Tables.\n",
    "\n",
    "This goal is achieved by solving the following tasks:\n",
    "\n",
    "- [Find movies titles with certain prefixes](#task-1-find-movie-titles-that-begin-with-the-sort-by-release-date-limit-to-the-latest-10-movies)\n",
    "- [Find the number of movies released by years](#task-2-find-the-number-of-movies-released-by-years)\n",
    "- [Identify the number of movies released by genres](#task-3-identify-the-number-of-movies-released-by-genres)\n",
    "- [Identify the top rated movies by users](#task-4-identify-the-top-rated-movies-by-users)"
   ]
  },
  {
   "cell_type": "markdown",
   "metadata": {},
   "source": [
    "### Imports and Definitions of helper functions"
   ]
  },
  {
   "cell_type": "markdown",
   "metadata": {},
   "source": [
    "Please make sure you run the next cell to import the necessary libraries before you start working on the assigned tasks."
   ]
  },
  {
   "cell_type": "code",
   "execution_count": 32,
   "metadata": {},
   "outputs": [],
   "source": [
    "from mysql.connector import connect, Error\n",
    "import time"
   ]
  },
  {
   "cell_type": "markdown",
   "metadata": {},
   "source": [
    "Please make sure you run the next two cells to define the helper functions before you start working on the assigned tasks."
   ]
  },
  {
   "cell_type": "code",
   "execution_count": 33,
   "metadata": {},
   "outputs": [],
   "source": [
    "WAIT_TIME = 10\n",
    "def connect_to_db(db_name):\n",
    "    \"\"\"\n",
    "    Connect to the database\n",
    "    IN: db_name, str, the name of the database in MySQL\n",
    "    OUT: mydb, the database connection\n",
    "    EXCEPTION: TimeoutError, if the database is not running\n",
    "    \"\"\"\n",
    "\n",
    "    num_of_tries = 0\n",
    "    while num_of_tries < WAIT_TIME:\n",
    "        try:\n",
    "            mydb = connect(host=\"127.0.0.1\", user=\"root\", db=db_name)\n",
    "            if mydb.is_connected():\n",
    "                print(\"Connected\")\n",
    "                break\n",
    "        except Error as e:\n",
    "            print(e)\n",
    "\n",
    "        num_of_tries += 1\n",
    "        print(\"Waiting for MySQL to start\")\n",
    "        time.sleep(1)\n",
    "\n",
    "    if num_of_tries >= WAIT_TIME:\n",
    "        raise TimeoutError(\"MySQL is not running\")\n",
    "\n",
    "    return mydb"
   ]
  },
  {
   "cell_type": "code",
   "execution_count": 34,
   "metadata": {},
   "outputs": [],
   "source": [
    "def do_query(cursor, query):\n",
    "    \"\"\"\n",
    "    Execute a query and print the results\n",
    "    IN: cursor, the cursor object\n",
    "        query, the query to be executed\n",
    "    OUT: res, list[tuple], the results of the query\n",
    "    \"\"\"\n",
    "    cursor.execute(query)\n",
    "    res = cursor.fetchall()\n",
    "    print(cursor.column_names)\n",
    "    for row in res:\n",
    "        print(row)\n",
    "    return res"
   ]
  },
  {
   "cell_type": "markdown",
   "metadata": {},
   "source": [
    "### Connect to Movies SQL Database"
   ]
  },
  {
   "cell_type": "markdown",
   "metadata": {},
   "source": [
    "To connect to the SQL database, you need to run the following cell. Please make sure you specify your database name correctly."
   ]
  },
  {
   "cell_type": "code",
   "execution_count": 35,
   "metadata": {},
   "outputs": [
    {
     "name": "stdout",
     "output_type": "stream",
     "text": [
      "Connected\n"
     ]
    }
   ],
   "source": [
    "if __name__ == \"__main__\":\n",
    "    # all code under this block will be executed only when you directly run this Jupyter notebook\n",
    "    mydb = connect_to_db(\"jc3003_movies\") # change the database name to your database\n",
    "    cursor = mydb.cursor()"
   ]
  },
  {
   "cell_type": "markdown",
   "metadata": {},
   "source": [
    "### Movies SQL Database Schema"
   ]
  },
  {
   "cell_type": "markdown",
   "metadata": {},
   "source": [
    "Before you start working on the assigned tasks, it is a good idea to understand the schema of the SQL database by running the next two cells."
   ]
  },
  {
   "cell_type": "code",
   "execution_count": 36,
   "metadata": {},
   "outputs": [],
   "source": [
    "def get_table_specification_query(table_name):\n",
    "    \"\"\"\n",
    "    Generate the SQL query to show the table specification\n",
    "    IN: table_name, str, the name of the table\n",
    "    OUT: str, the SQL query\n",
    "    \"\"\"\n",
    "    return f\"DESC {table_name}\""
   ]
  },
  {
   "cell_type": "code",
   "execution_count": 37,
   "metadata": {},
   "outputs": [
    {
     "name": "stdout",
     "output_type": "stream",
     "text": [
      "Table: movie\n",
      "('Field', 'Type', 'Null', 'Key', 'Default', 'Extra')\n",
      "('id', 'int', 'NO', 'PRI', None, 'auto_increment')\n",
      "('title', 'varchar(100)', 'NO', 'MUL', None, '')\n",
      "('release_date', 'date', 'NO', '', None, '')\n",
      "('genre', 'varchar(20)', 'NO', '', None, '')\n",
      "Table: user\n",
      "('Field', 'Type', 'Null', 'Key', 'Default', 'Extra')\n",
      "('id', 'int', 'NO', 'PRI', None, 'auto_increment')\n",
      "('uname', 'char(8)', 'NO', 'UNI', None, '')\n",
      "('age', 'tinyint', 'NO', '', None, '')\n",
      "('state', 'varchar(14)', 'NO', '', None, '')\n",
      "Table: rating\n",
      "('Field', 'Type', 'Null', 'Key', 'Default', 'Extra')\n",
      "('userid', 'int', 'NO', 'PRI', None, '')\n",
      "('movieid', 'int', 'NO', 'PRI', None, '')\n",
      "('rating', 'tinyint', 'NO', '', None, '')\n"
     ]
    }
   ],
   "source": [
    "if __name__ == \"__main__\":\n",
    "    # all code under this block will be executed only when you directly run this Jupyter notebook\n",
    "    for table_name in ['movie', 'user', 'rating']:\n",
    "        print(f'Table: {table_name}')\n",
    "        query = get_table_specification_query(table_name)\n",
    "        res = do_query(cursor, query)"
   ]
  },
  {
   "cell_type": "markdown",
   "metadata": {},
   "source": [
    "### Sample Data in Movies SQL Database"
   ]
  },
  {
   "cell_type": "markdown",
   "metadata": {},
   "source": [
    "Before you start working on the assigned tasks, it is a good idea to take a look at a snapshot of the data in the SQL database by running the next two cells."
   ]
  },
  {
   "cell_type": "code",
   "execution_count": 38,
   "metadata": {},
   "outputs": [],
   "source": [
    "def get_sample_data_query(table_name, num_rows=5):\n",
    "    \"\"\"\n",
    "    Generate the SQL query to show the sample data\n",
    "    IN: table_name, str, the name of the table\n",
    "    OUT: str, the SQL query\n",
    "    \"\"\"\n",
    "    return f\"SELECT * FROM {table_name} LIMIT {num_rows}\""
   ]
  },
  {
   "cell_type": "code",
   "execution_count": 39,
   "metadata": {},
   "outputs": [
    {
     "name": "stdout",
     "output_type": "stream",
     "text": [
      "Table: movie\n",
      "('id', 'title', 'release_date', 'genre')\n",
      "(1, \"Look Who's Talking\", datetime.date(1989, 10, 12), 'Romance')\n",
      "(2, 'Driving Miss Daisy', datetime.date(1989, 12, 13), 'Comedy')\n",
      "(3, 'Turner & Hooch', datetime.date(1989, 7, 28), 'Crime')\n",
      "(4, 'Born on the Fourth of July', datetime.date(1989, 12, 20), 'War')\n",
      "(5, 'Field of Dreams', datetime.date(1989, 4, 21), 'Drama')\n",
      "Table: user\n",
      "('id', 'uname', 'age', 'state')\n",
      "(1, 'ZqkCe579', 19, 'Delaware')\n",
      "(2, 'ktFAM702', 53, 'North Carolina')\n",
      "(3, 'NeOEI446', 35, 'Delaware')\n",
      "(4, 'DvXQj522', 68, 'Ohio')\n",
      "(5, 'OVnAt417', 31, 'Ohio')\n",
      "Table: rating\n",
      "('userid', 'movieid', 'rating')\n",
      "(1, 1, 7)\n",
      "(1, 21, 3)\n",
      "(1, 27, 3)\n",
      "(1, 63, 9)\n",
      "(1, 67, 4)\n"
     ]
    }
   ],
   "source": [
    "if __name__ == \"__main__\":\n",
    "    # all code under this block will be executed only when you directly run this Jupyter notebook\n",
    "    for table_name in ['movie', 'user', 'rating']:\n",
    "        print(f'Table: {table_name}')\n",
    "        query = get_sample_data_query(table_name)\n",
    "        res = do_query(cursor, query)"
   ]
  },
  {
   "cell_type": "markdown",
   "metadata": {},
   "source": [
    "### Queries to Movies SQL Database"
   ]
  },
  {
   "cell_type": "markdown",
   "metadata": {},
   "source": [
    "Please replace the line \"__Your_SQL_Query_Here__\" with your SQL query to solve the assigned tasks."
   ]
  },
  {
   "cell_type": "markdown",
   "metadata": {},
   "source": [
    "#### Task 1: Find movie titles that begin with 'The', sort by release date in descending order, and limit to the latest 10 movies"
   ]
  },
  {
   "cell_type": "markdown",
   "metadata": {},
   "source": [
    "Your query result Table should look like this:\n",
    "\n",
    "```text\n",
    "+-------+--------------+\n",
    "| title | release_date |\n",
    "+-------+--------------+\n",
    "| ...   | ...          |\n",
    "+-------+--------------+\n",
    "```"
   ]
  },
  {
   "cell_type": "code",
   "execution_count": 40,
   "metadata": {},
   "outputs": [],
   "source": [
    "def get_latest_movies_by_title_prefix_query(prefix=\"The\", num_rows=10):\n",
    "    \"\"\"\n",
    "    Generate the SQL query to show the latest movies that start with a prefix\n",
    "    IN: prefix, str, the prefix of the movie title\n",
    "        num_rows, int, the number of rows to return\n",
    "    OUT: str, the SQL query\n",
    "    \"\"\"\n",
    "    \n",
    "    return f\"\"\"\n",
    "    SELECT \n",
    "        title, \n",
    "        release_date\n",
    "    FROM movie\n",
    "    WHERE title LIKE '{prefix}%'\n",
    "    ORDER BY release_date DESC\n",
    "    LIMIT {int(num_rows)};\n",
    "    \"\"\""
   ]
  },
  {
   "cell_type": "code",
   "execution_count": 41,
   "metadata": {},
   "outputs": [
    {
     "name": "stdout",
     "output_type": "stream",
     "text": [
      "('title', 'release_date')\n",
      "('Aladdin', datetime.date(2019, 5, 8))\n",
      "('Avengers: Endgame', datetime.date(2019, 4, 22))\n",
      "('Aquaman', datetime.date(2018, 11, 26))\n",
      "('A Star is Born', datetime.date(2018, 8, 31))\n",
      "('Ant-Man and the Wasp', datetime.date(2018, 6, 25))\n",
      "('Avengers: Infinity War', datetime.date(2018, 4, 23))\n",
      "('A Quiet Place', datetime.date(2018, 3, 9))\n",
      "('Ant-Man', datetime.date(2015, 7, 14))\n",
      "('Avengers: Age of Ultron', datetime.date(2015, 4, 22))\n",
      "('American Sniper', datetime.date(2014, 12, 11))\n",
      "('American Hustle', datetime.date(2013, 12, 12))\n",
      "('Alvin and the Chipmunks: Chipwrecked', datetime.date(2011, 12, 14))\n",
      "('Alice in Wonderland', datetime.date(2010, 3, 3))\n",
      "('Alvin and the Chipmunks: The Squeakquel', datetime.date(2009, 12, 21))\n",
      "('Avatar', datetime.date(2009, 12, 10))\n"
     ]
    }
   ],
   "source": [
    "if __name__ == \"__main__\":\n",
    "    # all code under this block will be executed only when you directly run this Jupyter notebook\n",
    "    query = get_latest_movies_by_title_prefix_query(prefix=\"A\", num_rows=15)\n",
    "    res = do_query(cursor, query)"
   ]
  },
  {
   "cell_type": "markdown",
   "metadata": {},
   "source": [
    "#### Task 2: Find the number of movies released by years"
   ]
  },
  {
   "cell_type": "markdown",
   "metadata": {},
   "source": [
    "##### Task 2.1: Identify the number of movies released in 2015"
   ]
  },
  {
   "cell_type": "markdown",
   "metadata": {},
   "source": [
    "Your query result Table should look like this:\n",
    "\n",
    "```text\n",
    "+------------+\n",
    "| num_movies |\n",
    "+------------+\n",
    "| ...        |\n",
    "+------------+\n",
    "```\n",
    "\n",
    "\n",
    "Hint: `YEAR(date)` SQL function can be used to extract year from a `date` field.\n",
    "\n",
    "For example:\n",
    "```sql\n",
    "SELECT YEAR(movie.release_date) FROM movie;\n",
    "```"
   ]
  },
  {
   "cell_type": "code",
   "execution_count": 42,
   "metadata": {},
   "outputs": [],
   "source": [
    "def get_num_movies_released_in_year_query(year=2015):\n",
    "    \"\"\"\n",
    "    Generate the SQL query to show the number of movies released in a year\n",
    "    IN: year, int, the year\n",
    "    OUT: str, the SQL query\n",
    "    \"\"\"\n",
    "    \n",
    "    return f\"\"\"\n",
    "    SELECT\n",
    "        COUNT(*) AS num_movies\n",
    "    FROM movie\n",
    "    WHERE YEAR(release_date) = {year};\n",
    "    \"\"\""
   ]
  },
  {
   "cell_type": "code",
   "execution_count": 43,
   "metadata": {},
   "outputs": [
    {
     "name": "stdout",
     "output_type": "stream",
     "text": [
      "('num_movies',)\n",
      "(20,)\n"
     ]
    }
   ],
   "source": [
    "if __name__ == \"__main__\":\n",
    "    # all code under this block will be executed only when you directly run this Jupyter notebook\n",
    "    query = get_num_movies_released_in_year_query()\n",
    "    res = do_query(cursor, query)"
   ]
  },
  {
   "cell_type": "markdown",
   "metadata": {},
   "source": [
    "##### Task 2.2: Identify how many movies were released from 2001 to 2005 (inclusive)."
   ]
  },
  {
   "cell_type": "markdown",
   "metadata": {},
   "source": [
    "Your query result Table should look like this:\n",
    "\n",
    "```text\n",
    "+------------+\n",
    "| num_movies |\n",
    "+------------+\n",
    "| ...        |\n",
    "+------------+\n",
    "```"
   ]
  },
  {
   "cell_type": "code",
   "execution_count": 44,
   "metadata": {},
   "outputs": [],
   "source": [
    "def get_num_movies_released_between_years_query(start_year=2001, end_year=2005):\n",
    "    \"\"\"\n",
    "    Generate the SQL query to show the number of movies released in a interval of years\n",
    "    IN: start_year, int, the start year\n",
    "        end_year, int, the end year\n",
    "    OUT: str, the SQL query\n",
    "    \"\"\"\n",
    "    \n",
    "    return f\"\"\"\n",
    "    SELECT\n",
    "        COUNT(*) AS num_movies\n",
    "    FROM movie\n",
    "    WHERE YEAR(release_date) >= {start_year} AND YEAR(release_date) <= {end_year};\n",
    "    \"\"\""
   ]
  },
  {
   "cell_type": "code",
   "execution_count": 45,
   "metadata": {},
   "outputs": [
    {
     "name": "stdout",
     "output_type": "stream",
     "text": [
      "('num_movies',)\n",
      "(100,)\n"
     ]
    }
   ],
   "source": [
    "if __name__ == \"__main__\":\n",
    "    # all code under this block will be executed only when you directly run this Jupyter notebook\n",
    "    query = get_num_movies_released_between_years_query()\n",
    "    res = do_query(cursor, query)"
   ]
  },
  {
   "cell_type": "markdown",
   "metadata": {},
   "source": [
    "#### Task 3: Identify the number of movies released by genres"
   ]
  },
  {
   "cell_type": "markdown",
   "metadata": {},
   "source": [
    "##### Task 3.1: Identify all the movie genres. Sort the genres in alphabetical order."
   ]
  },
  {
   "cell_type": "markdown",
   "metadata": {},
   "source": [
    "Your query result Table should look like this:\n",
    "\n",
    "```text\n",
    "+-------+\n",
    "| genre |\n",
    "+-------+\n",
    "| ...   |\n",
    "+-------+\n",
    "```"
   ]
  },
  {
   "cell_type": "code",
   "execution_count": 46,
   "metadata": {},
   "outputs": [],
   "source": [
    "def get_all_movie_genres_query():\n",
    "    \"\"\"\n",
    "    Generate the SQL query to show all the movie genres in alphabetical order\n",
    "    OUT: str, the SQL query\n",
    "    \"\"\"\n",
    "    \n",
    "    return f\"\"\"\n",
    "    SELECT \n",
    "        DISTINCT genre\n",
    "    FROM movie\n",
    "    ORDER BY genre ASC;\n",
    "    \"\"\""
   ]
  },
  {
   "cell_type": "code",
   "execution_count": 47,
   "metadata": {},
   "outputs": [
    {
     "name": "stdout",
     "output_type": "stream",
     "text": [
      "('genre',)\n",
      "('Action',)\n",
      "('Adventure',)\n",
      "('Animation',)\n",
      "('Comedy',)\n",
      "('Crime',)\n",
      "('Drama',)\n",
      "('Family',)\n",
      "('Fantasy',)\n",
      "('History',)\n",
      "('Horror',)\n",
      "('Mystery',)\n",
      "('Romance',)\n",
      "('Science Fiction',)\n",
      "('Thriller',)\n",
      "('War',)\n",
      "('Western',)\n"
     ]
    }
   ],
   "source": [
    "if __name__ == \"__main__\":\n",
    "    # all code under this block will be executed only when you directly run this Jupyter notebook\n",
    "    query = get_all_movie_genres_query()\n",
    "    res = do_query(cursor, query)"
   ]
  },
  {
   "cell_type": "markdown",
   "metadata": {},
   "source": [
    "##### Task 3.2: Identify the top 3 genres with the most number of movies released in 2010."
   ]
  },
  {
   "cell_type": "markdown",
   "metadata": {},
   "source": [
    "Your query result Table should look like this:\n",
    "\n",
    "```text\n",
    "+-------+-------------+\n",
    "| genre | num_moivies |\n",
    "+-------+-------------+\n",
    "| ...   | ...         |\n",
    "+-------+-------------+\n",
    "```\n",
    "\n",
    "Note: break ties by sorting genres in alphabetical order"
   ]
  },
  {
   "cell_type": "code",
   "execution_count": 48,
   "metadata": {},
   "outputs": [],
   "source": [
    "def get_top_movie_genres_in_year_query(year=2010, num_genres=3):\n",
    "    \"\"\"\n",
    "    Generate the SQL query to show the top genres with the most number of movies released in a year\n",
    "    IN: year, int, the year\n",
    "        num_genres, int, the number of genres to return\n",
    "    OUT: str, the SQL query\n",
    "    \"\"\"\n",
    "    \n",
    "    return f\"\"\"\n",
    "    SELECT\n",
    "        genre,\n",
    "        COUNT(*) AS num_movies\n",
    "    FROM movie\n",
    "    WHERE YEAR(release_date) = {year}\n",
    "    GROUP BY genre\n",
    "    ORDER BY COUNT(title) DESC\n",
    "    LIMIT {num_genres};\n",
    "    \"\"\""
   ]
  },
  {
   "cell_type": "code",
   "execution_count": 49,
   "metadata": {},
   "outputs": [
    {
     "name": "stdout",
     "output_type": "stream",
     "text": [
      "('genre', 'num_movies')\n",
      "('Animation', 6)\n",
      "('Action', 3)\n",
      "('Drama', 2)\n"
     ]
    }
   ],
   "source": [
    "if __name__ == \"__main__\":\n",
    "    # all code under this block will be executed only when you directly run this Jupyter notebook\n",
    "    query = get_top_movie_genres_in_year_query()\n",
    "    res = do_query(cursor, query)"
   ]
  },
  {
   "cell_type": "markdown",
   "metadata": {},
   "source": [
    "#### Task 4: Identify the top rated movies by users"
   ]
  },
  {
   "cell_type": "markdown",
   "metadata": {},
   "source": [
    "##### Task 4.1: Identify the top 5 highest rated movies of 2017. Keep one decimal place for the computation of average rating."
   ]
  },
  {
   "cell_type": "markdown",
   "metadata": {},
   "source": [
    "Your query result Table should look like this:\n",
    "\n",
    "```text\n",
    "+-------+------------+\n",
    "| title | avg_rating |\n",
    "+-------+------------+\n",
    "| ...   | ...        |\n",
    "+-------+------------+\n",
    "```\n",
    "\n",
    "Hint: Use `ROUND(num, decimal_places)` function to round off the average rating to one decimal place.\n",
    "\n",
    "For example:\n",
    "```sql\n",
    "SELECT ROUND(AVG(rating.rating, 1) FROM rating;\n",
    "```"
   ]
  },
  {
   "cell_type": "code",
   "execution_count": 50,
   "metadata": {},
   "outputs": [],
   "source": [
    "def get_top_movies_in_year_query(year=2017, num_movies=5):\n",
    "    \"\"\"\n",
    "    Generate the SQL query to show the top movies of a year\n",
    "    IN: year, int, the year\n",
    "        num_movies, int, the number of movies to return\n",
    "    OUT: str, the SQL query\n",
    "    \"\"\"\n",
    "    \n",
    "    return f\"\"\"\n",
    "    SELECT\n",
    "        title,\n",
    "        ROUND(AVG(rating.rating), 1) AS avg_rating\n",
    "    FROM movie\n",
    "    JOIN rating ON movie.id = rating.movieid\n",
    "    WHERE YEAR(movie.release_date) = {year}\n",
    "    GROUP BY title\n",
    "    ORDER BY avg_rating DESC\n",
    "    LIMIT {num_movies};\n",
    "    \"\"\""
   ]
  },
  {
   "cell_type": "code",
   "execution_count": 51,
   "metadata": {},
   "outputs": [
    {
     "name": "stdout",
     "output_type": "stream",
     "text": [
      "('title', 'avg_rating')\n",
      "('Beauty and the Beast', Decimal('5.8'))\n",
      "('Dunkirk', Decimal('5.8'))\n",
      "('The LEGO Batman Movie', Decimal('5.7'))\n",
      "('It', Decimal('5.6'))\n",
      "('Spider-Man: Homecoming', Decimal('5.6'))\n"
     ]
    }
   ],
   "source": [
    "if __name__ == \"__main__\":\n",
    "    # all code under this block will be executed only when you directly run this Jupyter notebook\n",
    "    query = get_top_movies_in_year_query()\n",
    "    res = do_query(cursor, query)"
   ]
  },
  {
   "cell_type": "markdown",
   "metadata": {},
   "source": [
    "#### Task 4.2: Identify the users who have an average rating of at least 8.0 for movies in the years 2010-2015 (inclusive). Sort the users by their name. Keep one decimal place for the computation of average rating."
   ]
  },
  {
   "cell_type": "markdown",
   "metadata": {},
   "source": [
    "Your query result Table should look like this:\n",
    "\n",
    "```text\n",
    "+----------+------------+\n",
    "| uname    | avg_rating |\n",
    "+----------+------------+\n",
    "| ...      | ...        |\n",
    "+----------+------------+\n",
    "```"
   ]
  },
  {
   "cell_type": "code",
   "execution_count": 52,
   "metadata": {},
   "outputs": [],
   "source": [
    "def get_users_with_high_average_rating_between_years_query(start_year=2010, end_year=2015, min_avg_rating=8.0):\n",
    "    \"\"\"\n",
    "    Generate the SQL query to show the users with high average rating in a range of years\n",
    "    IN: start_year, int, the start year\n",
    "        end_year, int, the end year\n",
    "        min_avg_rating, float, the minimum average rating\n",
    "    OUT: str, the SQL query\n",
    "    \"\"\"\n",
    "    \n",
    "    return f\"\"\"\n",
    "    SELECT\n",
    "        user.uname,\n",
    "        ROUND(AVG(rating.rating), 1) AS avg_rating\n",
    "    FROM rating\n",
    "    JOIN user ON rating.userid = user.id\n",
    "    JOIN movie ON rating.movieid = movie.id\n",
    "    WHERE YEAR(movie.release_date) >= {start_year} AND YEAR(movie.release_date) <= {end_year}\n",
    "    GROUP BY user.uname\n",
    "    HAVING ROUND(AVG(rating.rating), 1) >= {min_avg_rating}\n",
    "    ORDER BY uname;\n",
    "    \"\"\""
   ]
  },
  {
   "cell_type": "code",
   "execution_count": 53,
   "metadata": {},
   "outputs": [
    {
     "name": "stdout",
     "output_type": "stream",
     "text": [
      "('uname', 'avg_rating')\n",
      "('bdZWY381', Decimal('8.2'))\n",
      "('DQtdi052', Decimal('8.0'))\n",
      "('ePuFV640', Decimal('8.0'))\n",
      "('haBkx803', Decimal('8.1'))\n",
      "('QSJUb581', Decimal('8.2'))\n",
      "('TdMcx810', Decimal('8.0'))\n",
      "('tvdUE823', Decimal('8.3'))\n",
      "('vEraH377', Decimal('8.1'))\n",
      "('VLUPZ650', Decimal('8.3'))\n",
      "('vqXGj062', Decimal('8.0'))\n",
      "('yVIBT711', Decimal('8.4'))\n"
     ]
    }
   ],
   "source": [
    "if __name__ == \"__main__\":\n",
    "    # all code under this block will be executed only when you directly run this Jupyter notebook\n",
    "    query = get_users_with_high_average_rating_between_years_query()\n",
    "    res = do_query(cursor, query)"
   ]
  },
  {
   "cell_type": "markdown",
   "metadata": {},
   "source": [
    "#### Task 4.3: Identify the ratings given by the user `yVIBT711` for movies released in the years 2010-2015 (inclusive). Sort the movies by their release date in ascending order."
   ]
  },
  {
   "cell_type": "markdown",
   "metadata": {},
   "source": [
    "Your query result Table should look like this:\n",
    "\n",
    "```text\n",
    "+-------+--------+--------------+\n",
    "| title | rating | release_date |\n",
    "+-------+--------+--------------+\n",
    "| ...   | ...    | ...          |\n",
    "+-------+--------+--------------+\n",
    "```\n",
    "\n",
    "Note: break ties by movie title in ascending order."
   ]
  },
  {
   "cell_type": "code",
   "execution_count": 54,
   "metadata": {},
   "outputs": [],
   "source": [
    "def get_user_ratings_for_movies_between_years_query(user_name='yVIBT711', start_year=2010, end_year=2015):\n",
    "    \"\"\"\n",
    "    Generate the SQL query to show the ratings given by a user for movies released in a range of years\n",
    "    IN: user_name, str, the user name\n",
    "        start_year, int, the start year\n",
    "        end_year, int, the end year\n",
    "    OUT: str, the SQL query\n",
    "    \"\"\"\n",
    "    \n",
    "    return f\"\"\"\n",
    "    SELECT\n",
    "        movie.title,\n",
    "        rating.rating,\n",
    "        movie.release_date\n",
    "    FROM rating\n",
    "    JOIN movie ON rating.movieid = movie.id\n",
    "    JOIN user ON rating.userid = user.id\n",
    "    WHERE YEAR(movie.release_date) >= {start_year} AND YEAR(movie.release_date) <= {end_year} AND user.uname = '{user_name}'\n",
    "    ORDER BY movie.release_date ASC;\n",
    "    \"\"\""
   ]
  },
  {
   "cell_type": "code",
   "execution_count": 55,
   "metadata": {},
   "outputs": [
    {
     "name": "stdout",
     "output_type": "stream",
     "text": [
      "('title', 'rating', 'release_date')\n",
      "('The Twilight Saga: Eclipse', 6, datetime.date(2010, 6, 23))\n",
      "(\"Madagascar 3: Europe's Most Wanted\", 10, datetime.date(2012, 6, 6))\n",
      "('The Twilight Saga: Breaking Dawn - Part 2', 10, datetime.date(2012, 11, 13))\n",
      "('The Croods', 5, datetime.date(2013, 3, 20))\n",
      "('The Amazing Spider-Man 2', 9, datetime.date(2014, 4, 16))\n",
      "('Godzilla', 10, datetime.date(2014, 5, 14))\n",
      "('Interstellar', 9, datetime.date(2014, 11, 5))\n"
     ]
    }
   ],
   "source": [
    "if __name__ == \"__main__\":\n",
    "    # all code under this block will be executed only when you directly run this Jupyter notebook\n",
    "    query = get_user_ratings_for_movies_between_years_query()\n",
    "    res = do_query(cursor, query)"
   ]
  },
  {
   "cell_type": "markdown",
   "metadata": {},
   "source": [
    "#### Task 4.4: Identify the movies released in the same year as the movie `Wonder Woman` and have a higher average rating than `Wonder Woman`. Sort the movies by their average rating in descending order. Keep one decimal place for the computation of average rating."
   ]
  },
  {
   "cell_type": "markdown",
   "metadata": {},
   "source": [
    "Your query result Table should look like this:\n",
    "\n",
    "```text\n",
    "+-------+------------+\n",
    "| title | avg_rating |\n",
    "+-------+------------+\n",
    "| ...   | ...        |\n",
    "+-------+------------+\n",
    "```\n",
    "\n",
    "Note: break ties by movie title in ascending order."
   ]
  },
  {
   "cell_type": "code",
   "execution_count": 56,
   "metadata": {},
   "outputs": [],
   "source": [
    "def get_movies_higher_rating_than_movie_query(movie_title='Wonder Woman'):\n",
    "    \"\"\"\n",
    "    Generate the SQL query to show the movies released in the same year as a movie and have a higher average rating\n",
    "    IN: movie_title, str, the movie title\n",
    "    OUT: str, the SQL query\n",
    "    \"\"\"\n",
    "    \n",
    "    return f\"\"\"\n",
    "    SELECT \n",
    "        movie.title,\n",
    "        ROUND(AVG(rating.rating), 1) AS avg_rating\n",
    "    FROM rating\n",
    "    JOIN movie ON rating.movieid = movie.id\n",
    "    WHERE \n",
    "        YEAR(movie.release_date) = (\n",
    "            SELECT \n",
    "                YEAR(release_date)\n",
    "            FROM movie\n",
    "            WHERE title = '{movie_title}'\n",
    "        )\n",
    "    GROUP BY movie.title\n",
    "    HAVING \n",
    "        avg_rating > (\n",
    "            SELECT \n",
    "                ROUND(AVG(rating.rating), 1)\n",
    "            FROM rating\n",
    "            JOIN movie ON rating.movieid = movie.id\n",
    "            WHERE title = '{movie_title}'\n",
    "    )\n",
    "    ORDER BY avg_rating DESC;\n",
    "    \"\"\""
   ]
  },
  {
   "cell_type": "code",
   "execution_count": 57,
   "metadata": {},
   "outputs": [
    {
     "name": "stdout",
     "output_type": "stream",
     "text": [
      "('title', 'avg_rating')\n",
      "('Beauty and the Beast', Decimal('5.8'))\n",
      "('Dunkirk', Decimal('5.8'))\n",
      "('The LEGO Batman Movie', Decimal('5.7'))\n",
      "('It', Decimal('5.6'))\n",
      "('Spider-Man: Homecoming', Decimal('5.6'))\n",
      "('Thor: Ragnarok', Decimal('5.6'))\n",
      "('Coco', Decimal('5.5'))\n",
      "('Guardians of the Galaxy Vol. 2', Decimal('5.5'))\n",
      "('Jumanji: Welcome to the Jungle', Decimal('5.5'))\n",
      "('Justice League', Decimal('5.5'))\n",
      "('Logan', Decimal('5.5'))\n",
      "('The Greatest Showman', Decimal('5.5'))\n",
      "('Get Out', Decimal('5.4'))\n",
      "('Kong: Skull Island', Decimal('5.4'))\n",
      "('The Fate of the Furious', Decimal('5.4'))\n",
      "('Despicable Me 3', Decimal('5.3'))\n"
     ]
    }
   ],
   "source": [
    "if __name__ == \"__main__\":\n",
    "    # all code under this block will be executed only when you directly run this Jupyter notebook\n",
    "    query = get_movies_higher_rating_than_movie_query()\n",
    "    res = do_query(cursor, query)"
   ]
  },
  {
   "cell_type": "markdown",
   "metadata": {},
   "source": [
    "### Note: Do not forget to close the connection to the database."
   ]
  },
  {
   "cell_type": "code",
   "execution_count": 58,
   "metadata": {},
   "outputs": [],
   "source": [
    "if __name__ == \"__main__\":\n",
    "    # all code under this block will be executed only when you directly run this Jupyter notebook\n",
    "    cursor.close()\n",
    "    mydb.close()"
   ]
  }
 ],
 "metadata": {
  "kernelspec": {
   "display_name": "Python 3",
   "language": "python",
   "name": "python3"
  },
  "language_info": {
   "codemirror_mode": {
    "name": "ipython",
    "version": 3
   },
   "file_extension": ".py",
   "mimetype": "text/x-python",
   "name": "python",
   "nbconvert_exporter": "python",
   "pygments_lexer": "ipython3",
   "version": "3.12.5"
  }
 },
 "nbformat": 4,
 "nbformat_minor": 4
}
